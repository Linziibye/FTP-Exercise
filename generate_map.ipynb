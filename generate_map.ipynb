{
 "cells": [
  {
   "cell_type": "code",
   "execution_count": 12,
   "id": "de461bc8",
   "metadata": {},
   "outputs": [
    {
     "name": "stdout",
     "output_type": "stream",
     "text": [
      "Requirement already satisfied: pandas in /home/codespace/.local/lib/python3.12/site-packages (2.2.3)\n",
      "Collecting geopandas\n",
      "  Using cached geopandas-1.0.1-py3-none-any.whl.metadata (2.2 kB)\n",
      "Requirement already satisfied: folium in /usr/local/python/3.12.1/lib/python3.12/site-packages (0.19.6)\n",
      "Requirement already satisfied: branca in /usr/local/python/3.12.1/lib/python3.12/site-packages (0.8.1)\n",
      "Requirement already satisfied: numpy>=1.26.0 in /home/codespace/.local/lib/python3.12/site-packages (from pandas) (2.2.4)\n",
      "Requirement already satisfied: python-dateutil>=2.8.2 in /home/codespace/.local/lib/python3.12/site-packages (from pandas) (2.9.0.post0)\n",
      "Requirement already satisfied: pytz>=2020.1 in /home/codespace/.local/lib/python3.12/site-packages (from pandas) (2025.1)\n",
      "Requirement already satisfied: tzdata>=2022.7 in /home/codespace/.local/lib/python3.12/site-packages (from pandas) (2025.1)\n",
      "Collecting pyogrio>=0.7.2 (from geopandas)\n",
      "  Downloading pyogrio-0.11.0-cp312-cp312-manylinux_2_28_x86_64.whl.metadata (5.3 kB)\n",
      "Requirement already satisfied: packaging in /home/codespace/.local/lib/python3.12/site-packages (from geopandas) (24.2)\n",
      "Collecting pyproj>=3.3.0 (from geopandas)\n",
      "  Downloading pyproj-3.7.1-cp312-cp312-manylinux_2_17_x86_64.manylinux2014_x86_64.whl.metadata (31 kB)\n",
      "Requirement already satisfied: shapely>=2.0.0 in /usr/local/python/3.12.1/lib/python3.12/site-packages (from geopandas) (2.1.1)\n",
      "Requirement already satisfied: jinja2>=2.9 in /home/codespace/.local/lib/python3.12/site-packages (from folium) (3.1.6)\n",
      "Requirement already satisfied: requests in /home/codespace/.local/lib/python3.12/site-packages (from folium) (2.32.3)\n",
      "Requirement already satisfied: xyzservices in /usr/local/python/3.12.1/lib/python3.12/site-packages (from folium) (2025.4.0)\n",
      "Requirement already satisfied: MarkupSafe>=2.0 in /home/codespace/.local/lib/python3.12/site-packages (from jinja2>=2.9->folium) (3.0.2)\n",
      "Requirement already satisfied: certifi in /home/codespace/.local/lib/python3.12/site-packages (from pyogrio>=0.7.2->geopandas) (2025.1.31)\n",
      "Requirement already satisfied: six>=1.5 in /home/codespace/.local/lib/python3.12/site-packages (from python-dateutil>=2.8.2->pandas) (1.17.0)\n",
      "Requirement already satisfied: charset-normalizer<4,>=2 in /home/codespace/.local/lib/python3.12/site-packages (from requests->folium) (3.4.1)\n",
      "Requirement already satisfied: idna<4,>=2.5 in /home/codespace/.local/lib/python3.12/site-packages (from requests->folium) (3.10)\n",
      "Requirement already satisfied: urllib3<3,>=1.21.1 in /home/codespace/.local/lib/python3.12/site-packages (from requests->folium) (2.3.0)\n",
      "Downloading geopandas-1.0.1-py3-none-any.whl (323 kB)\n",
      "Downloading pyogrio-0.11.0-cp312-cp312-manylinux_2_28_x86_64.whl (27.7 MB)\n",
      "\u001b[2K   \u001b[90m━━━━━━━━━━━━━━━━━━━━━━━━━━━━━━━━━━━━━━━━\u001b[0m \u001b[32m27.7/27.7 MB\u001b[0m \u001b[31m75.3 MB/s\u001b[0m eta \u001b[36m0:00:00\u001b[0m:00:01\u001b[0m\n",
      "\u001b[?25hDownloading pyproj-3.7.1-cp312-cp312-manylinux_2_17_x86_64.manylinux2014_x86_64.whl (9.6 MB)\n",
      "\u001b[2K   \u001b[90m━━━━━━━━━━━━━━━━━━━━━━━━━━━━━━━━━━━━━━━━\u001b[0m \u001b[32m9.6/9.6 MB\u001b[0m \u001b[31m81.3 MB/s\u001b[0m eta \u001b[36m0:00:00\u001b[0m\n",
      "\u001b[?25hInstalling collected packages: pyproj, pyogrio, geopandas\n",
      "\u001b[33m  WARNING: The script pyproj is installed in '/usr/local/python/3.12.1/bin' which is not on PATH.\n",
      "  Consider adding this directory to PATH or, if you prefer to suppress this warning, use --no-warn-script-location.\u001b[0m\u001b[33m\n",
      "\u001b[0mSuccessfully installed geopandas-1.0.1 pyogrio-0.11.0 pyproj-3.7.1\n",
      "\n",
      "\u001b[1m[\u001b[0m\u001b[34;49mnotice\u001b[0m\u001b[1;39;49m]\u001b[0m\u001b[39;49m A new release of pip is available: \u001b[0m\u001b[31;49m25.0.1\u001b[0m\u001b[39;49m -> \u001b[0m\u001b[32;49m25.1.1\u001b[0m\n",
      "\u001b[1m[\u001b[0m\u001b[34;49mnotice\u001b[0m\u001b[1;39;49m]\u001b[0m\u001b[39;49m To update, run: \u001b[0m\u001b[32;49mpython -m pip install --upgrade pip\u001b[0m\n",
      "Note: you may need to restart the kernel to use updated packages.\n"
     ]
    }
   ],
   "source": [
    "pip install pandas geopandas folium branca"
   ]
  },
  {
   "cell_type": "code",
   "execution_count": 15,
   "id": "37dc9018",
   "metadata": {},
   "outputs": [
    {
     "name": "stdout",
     "output_type": "stream",
     "text": [
      "✅ 热力图已生成：/workspaces/FTP-Exercise/transaction_heatmap.html\n"
     ]
    }
   ],
   "source": [
    "import os\n",
    "import pandas as pd\n",
    "import geopandas as gpd\n",
    "import folium\n",
    "from branca.colormap import linear\n",
    "\n",
    "# ———— 配置 ————\n",
    "CSV_PATH    = \"transactions.csv\"\n",
    "KML_PATH    = \"sample_uk_postcode_area.kml\"\n",
    "OUTPUT_HTML = \"transaction_heatmap.html\"\n",
    "\n",
    "# ———— 1. 读取 CSV 并汇总交易金额 ————\n",
    "# CSV 内部字段：ad_gb_postcode_outcode, txn_amount\n",
    "df_txn = pd.read_csv(\n",
    "    CSV_PATH,\n",
    "    dtype={\"ad_gb_postcode_outcode\": str, \"txn_amount\": float}\n",
    ")\n",
    "# 按 outcode 聚合\n",
    "df_txn = (\n",
    "    df_txn\n",
    "    .groupby(\"ad_gb_postcode_outcode\", as_index=False)\n",
    "    .agg({\"txn_amount\": \"sum\"})\n",
    "    .rename(columns={\"ad_gb_postcode_outcode\": \"postcode\"})\n",
    ")\n",
    "\n",
    "# ———— 2. 读取 KML，提取 postcode 区域边界 ————\n",
    "# KML 中每个 Placemark 的 <name> 存放 outcode\n",
    "gdf = (\n",
    "    gpd.read_file(KML_PATH, driver=\"KML\")\n",
    "       .loc[:, [\"Name\", \"geometry\"]]\n",
    "       .rename(columns={\"Name\": \"postcode\"})\n",
    ")\n",
    "\n",
    "# ———— 3. 合并边界与数据 ————\n",
    "gdf = gdf.merge(df_txn, on=\"postcode\", how=\"left\")\n",
    "gdf[\"txn_amount\"] = gdf[\"txn_amount\"].fillna(0.0)\n",
    "\n",
    "# ———— 4. 构造色阶 from 0 to max(txn_amount) ————\n",
    "max_amt = gdf[\"txn_amount\"].max()\n",
    "colormap = linear.YlGn_09.scale(0, max_amt)\n",
    "colormap.caption = \"Transaction Amount by Postcode Outcode\"\n",
    "\n",
    "# ———— 5. 初始化 Folium 地图 ————\n",
    "m = folium.Map(\n",
    "    location=[54.0, -2.0],\n",
    "    zoom_start=5,\n",
    "    tiles=\"cartodbpositron\"\n",
    ")\n",
    "\n",
    "# ———— 6. 添加 Choropleth 图层 ————\n",
    "folium.Choropleth(\n",
    "    geo_data=gdf.__geo_interface__,\n",
    "    name=\"choropleth\",\n",
    "    data=gdf,\n",
    "    columns=[\"postcode\", \"txn_amount\"],\n",
    "    key_on=\"feature.properties.postcode\",\n",
    "    fill_color=\"YlGn\",\n",
    "    fill_opacity=0.7,\n",
    "    line_opacity=0.2,\n",
    "    legend_name=\"Txn Amount\"\n",
    ").add_to(m)\n",
    "\n",
    "# ———— 7. 为每个区域添加鼠标悬停提示 ————\n",
    "for _, row in gdf.iterrows():\n",
    "    style = {\n",
    "        \"fillColor\": colormap(row[\"txn_amount\"]),\n",
    "        \"color\": \"#529\",\n",
    "        \"weight\": 0.5,\n",
    "        \"fillOpacity\": 0.7\n",
    "    }\n",
    "    gj = folium.GeoJson(\n",
    "        row[\"geometry\"],\n",
    "        style_function=lambda feat, style=style: style,\n",
    "        tooltip=folium.Tooltip(\n",
    "            f\"{row['postcode']}: £{row['txn_amount']:,.2f}\"\n",
    "        )\n",
    "    )\n",
    "    gj.add_to(m)\n",
    "\n",
    "# ———— 8. 添加色标控件 & 保存 ————\n",
    "colormap.add_to(m)\n",
    "m.save(OUTPUT_HTML)\n",
    "\n",
    "print(f\"✅ 热力图已生成：{os.path.abspath(OUTPUT_HTML)}\")\n"
   ]
  },
  {
   "cell_type": "code",
   "execution_count": null,
   "id": "4ea02eaa",
   "metadata": {},
   "outputs": [],
   "source": []
  },
  {
   "cell_type": "markdown",
   "id": "9b6d8b0a",
   "metadata": {},
   "source": [
    "print(1+1)"
   ]
  },
  {
   "cell_type": "code",
   "execution_count": 1,
   "id": "735a58de",
   "metadata": {},
   "outputs": [
    {
     "name": "stdout",
     "output_type": "stream",
     "text": [
      "2\n"
     ]
    }
   ],
   "source": [
    "print(1+1)"
   ]
  },
  {
   "cell_type": "code",
   "execution_count": null,
   "id": "a989525c",
   "metadata": {},
   "outputs": [],
   "source": []
  },
  {
   "cell_type": "code",
   "execution_count": null,
   "id": "e5546ca5",
   "metadata": {},
   "outputs": [],
   "source": []
  },
  {
   "cell_type": "code",
   "execution_count": null,
   "id": "9b4da3fe",
   "metadata": {},
   "outputs": [],
   "source": []
  }
 ],
 "metadata": {
  "kernelspec": {
   "display_name": "Python 3",
   "language": "python",
   "name": "python3"
  },
  "language_info": {
   "codemirror_mode": {
    "name": "ipython",
    "version": 3
   },
   "file_extension": ".py",
   "mimetype": "text/x-python",
   "name": "python",
   "nbconvert_exporter": "python",
   "pygments_lexer": "ipython3",
   "version": "3.12.1"
  }
 },
 "nbformat": 4,
 "nbformat_minor": 5
}
